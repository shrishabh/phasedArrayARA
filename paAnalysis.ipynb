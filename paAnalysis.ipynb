{
 "cells": [
  {
   "cell_type": "code",
   "execution_count": 2,
   "metadata": {},
   "outputs": [],
   "source": [
    "import numpy as np\n",
    "import ROOT as root"
   ]
  },
  {
   "cell_type": "code",
   "execution_count": 3,
   "metadata": {},
   "outputs": [
    {
     "name": "stdout",
     "output_type": "stream",
     "text": [
      "Populating the interactive namespace from numpy and matplotlib\n"
     ]
    }
   ],
   "source": [
    "%pylab inline"
   ]
  },
  {
   "cell_type": "code",
   "execution_count": 4,
   "metadata": {},
   "outputs": [],
   "source": [
    "fil = root.TFile(\"outputs/result.9.root\")\n",
    "myTree = fil.Get(\"eventTree\")\n",
    "distance = []\n",
    "SNR = []\n",
    "depth = []\n",
    "radius = []\n",
    "\n",
    "for entry in myTree:         \n",
    "     # Now you have acess to the leaves/branches of each entry in the tree, e.g.\n",
    "    distance.append(entry.dist)\n",
    "    SNR.append(entry.SNR)\n",
    "    radius.append(entry.radius)\n",
    "    depth.append(entry.depth)\n",
    "    "
   ]
  },
  {
   "cell_type": "code",
   "execution_count": 5,
   "metadata": {},
   "outputs": [],
   "source": [
    "def readRootFile(path):\n",
    "    f = root.TFile(path)\n",
    "    eventTree = f.Get(\"eventTree\")\n",
    "    overAllTree = f.Get(\"overAllTree\")\n",
    "    triggeredEvents = 0\n",
    "    distance = []\n",
    "    SNR = []\n",
    "    depth = []\n",
    "    radius = []\n",
    "\n",
    "    for event in overAllTree:\n",
    "        triggeredEvents += event.numPas\n",
    "    for entry in myTree:         \n",
    "         # Now you have acess to the leaves/branches of each entry in the tree, e.g.\n",
    "        distance.append(entry.dist)\n",
    "        SNR.append(entry.SNR)\n",
    "        radius.append(entry.radius)\n",
    "        depth.append(entry.depth)\n",
    "    return triggeredEvents, distance, SNR, depth, radius"
   ]
  },
  {
   "cell_type": "raw",
   "metadata": {},
   "source": []
  },
  {
   "cell_type": "code",
   "execution_count": 11,
   "metadata": {},
   "outputs": [],
   "source": [
    "trig, dista, snr, depth, radius = readRootFile(\"../rootFiles/PhasedArray/notOptimized/result_ps_notOptimized_E119.root\")"
   ]
  },
  {
   "cell_type": "code",
   "execution_count": 12,
   "metadata": {},
   "outputs": [
    {
     "name": "stdout",
     "output_type": "stream",
     "text": [
      "2021.7737455 -1011.68724913 25.0 2220.99686539\n"
     ]
    }
   ],
   "source": [
    "print max(radius), max(depth), max(snr), max(dista)"
   ]
  },
  {
   "cell_type": "code",
   "execution_count": 134,
   "metadata": {},
   "outputs": [],
   "source": [
    "from crossSectionData import *"
   ]
  },
  {
   "cell_type": "code",
   "execution_count": 142,
   "metadata": {},
   "outputs": [],
   "source": [
    "import crossSectionData1 as sigma"
   ]
  },
  {
   "cell_type": "code",
   "execution_count": 137,
   "metadata": {},
   "outputs": [],
   "source": [
    "def getEffectiveArea(veff, energy):\n",
    "    \"\"\" Returns Aeff and Aeff_err (in cm^2) given the Veff and Veff_err (in Km^3) and Energy (in Units of GeV)\"\"\"\n",
    "    avogadroNum = 6.022e23\n",
    "    ice_density = 0.92 # g/cm^3\n",
    "    ice_density *= 1e15\n",
    "    crosssection = (sigma_nu[energy][0] + 3*sigma_nu[energy][1] + sigma_nuBar[energy][0] + 3*sigma_nuBar[energy][1])/8\n",
    "    Aeff = avogadroNum*ice_density*crosssection*veff\n",
    "    #Aeff_err = avogadroNum*ice_density*crosssection*veff_err\n",
    "    return Aeff"
   ]
  },
  {
   "cell_type": "code",
   "execution_count": 139,
   "metadata": {},
   "outputs": [
    {
     "name": "stdout",
     "output_type": "stream",
     "text": [
      "1098328886.08\n"
     ]
    }
   ],
   "source": [
    "aeff = getEffectiveArea(47.943343,1e11)\n",
    "print aeff"
   ]
  },
  {
   "cell_type": "code",
   "execution_count": 143,
   "metadata": {},
   "outputs": [],
   "source": [
    "def getGenerationVolume(radius,depth):\n",
    "    return np.pi*radius*radius*depth"
   ]
  },
  {
   "cell_type": "code",
   "execution_count": 172,
   "metadata": {},
   "outputs": [
    {
     "name": "stdout",
     "output_type": "stream",
     "text": [
      "0.135716802635\n"
     ]
    }
   ],
   "source": [
    "veff,ef = sigma.getEffectiveVolume(4,10000,getGenerationVolume(6.000, 3.000))\n",
    "print veff"
   ]
  },
  {
   "cell_type": "code",
   "execution_count": 156,
   "metadata": {},
   "outputs": [],
   "source": [
    "vol = getGenerationVolume(6000, 3000)"
   ]
  },
  {
   "cell_type": "code",
   "execution_count": 163,
   "metadata": {},
   "outputs": [
    {
     "name": "stdout",
     "output_type": "stream",
     "text": [
      "3.39292006588e+11\n"
     ]
    }
   ],
   "source": [
    "print vol"
   ]
  },
  {
   "cell_type": "code",
   "execution_count": 165,
   "metadata": {},
   "outputs": [
    {
     "data": {
      "text/plain": [
       "0.7448728712501117"
      ]
     },
     "execution_count": 165,
     "metadata": {},
     "output_type": "execute_result"
    }
   ],
   "source": [
    "(vol*4*np.pi*174.702317079/1e6)*1e-9"
   ]
  },
  {
   "cell_type": "code",
   "execution_count": null,
   "metadata": {},
   "outputs": [],
   "source": []
  }
 ],
 "metadata": {
  "kernelspec": {
   "display_name": "Python 2",
   "language": "python",
   "name": "python2"
  },
  "language_info": {
   "codemirror_mode": {
    "name": "ipython",
    "version": 2
   },
   "file_extension": ".py",
   "mimetype": "text/x-python",
   "name": "python",
   "nbconvert_exporter": "python",
   "pygments_lexer": "ipython2",
   "version": "2.7.10"
  }
 },
 "nbformat": 4,
 "nbformat_minor": 2
}
